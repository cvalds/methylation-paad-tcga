{
 "cells": [
  {
   "cell_type": "code",
   "execution_count": null,
   "id": "7414239e",
   "metadata": {},
   "outputs": [],
   "source": [
    "import pandas as pd\n",
    "import matplotlib.pyplot as plt\n",
    "import seaborn as sns\n",
    "import numpy as np"
   ]
  },
  {
   "cell_type": "code",
   "execution_count": null,
   "id": "396effef",
   "metadata": {
    "lines_to_next_cell": 2
   },
   "outputs": [],
   "source": [
    "# Load the dataset from the CSV file\n",
    "df = pd.read_csv(\"methylation_beta_subset.csv\")"
   ]
  },
  {
   "cell_type": "code",
   "execution_count": null,
   "id": "6c70c02c",
   "metadata": {},
   "outputs": [],
   "source": [
    "print(df.head())\n",
    "print(df['Type'].value_counts())\n",
    "print(df['CpG'].nunique(), \"unique CpGs\")\n",
    "print(df['Sample'].nunique(), \"unique samples\")"
   ]
  },
  {
   "cell_type": "code",
   "execution_count": null,
   "id": "4834f480",
   "metadata": {},
   "outputs": [],
   "source": [
    "# another boxplot to visualize the distribution of beta values across CpGs\n",
    "plt.figure(figsize=(14, 6))\n",
    "sns.boxplot(data=df, x=\"CpG\", y=\"Beta\", hue=\"Type\")\n",
    "plt.title(\"Beta Value Distribution by CpG\")\n",
    "plt.xticks(rotation=90)\n",
    "plt.tight_layout()\n",
    "plt.show()"
   ]
  },
  {
   "cell_type": "code",
   "execution_count": null,
   "id": "35074193",
   "metadata": {},
   "outputs": [],
   "source": [
    "# Create a pivot table for heatmap\n",
    "pivot_df = df.pivot_table(index='CpG', columns='Sample', values='Beta', aggfunc='mean') "
   ]
  },
  {
   "cell_type": "code",
   "execution_count": null,
   "id": "53b961d8",
   "metadata": {},
   "outputs": [],
   "source": [
    "# and a simple heatmap to visualize the methylation levels across samples\n",
    "sns.clustermap(pivot_df.fillna(0), cmap=\"vlag\", metric=\"euclidean\", figsize=(12, 10))\n",
    "plt.title(\"Heatmap of CpG Methylation Across Samples\")\n",
    "plt.show()"
   ]
  },
  {
   "cell_type": "code",
   "execution_count": null,
   "id": "0ab8a758",
   "metadata": {},
   "outputs": [],
   "source": [
    "#summary statistics for beta values by CpG and Type\n",
    "summary_df = df.groupby([\"CpG\", \"Type\"])[\"Beta\"].agg(['count', 'mean', 'std', 'min', 'max']).reset_index()\n",
    "print(summary_df.head())"
   ]
  }
 ],
 "metadata": {
  "jupytext": {
   "cell_metadata_filter": "-all",
   "main_language": "python",
   "notebook_metadata_filter": "-all"
  }
 },
 "nbformat": 4,
 "nbformat_minor": 5
}
